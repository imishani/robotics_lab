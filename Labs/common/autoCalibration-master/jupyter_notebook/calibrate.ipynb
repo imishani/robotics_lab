{
 "cells": [
  {
   "cell_type": "code",
   "execution_count": 1,
   "metadata": {},
   "outputs": [
    {
     "name": "stdout",
     "output_type": "stream",
     "text": [
      "importing Jupyter notebook from rsAruco.ipynb\n"
     ]
    }
   ],
   "source": [
    "import import_ipynb\n",
    "import threading\n",
    "import time\n",
    "import rsAruco as ra\n",
    "import cv2\n",
    "from PIL import Image\n",
    "\n",
    "import numpy as np\n",
    "import matplotlib.pyplot as plt\n",
    "from IPython import display\n",
    "# Dobot manipulation\n",
    "import DobotDllType as dType\n",
    "%matplotlib inline"
   ]
  },
  {
   "cell_type": "code",
   "execution_count": 2,
   "metadata": {},
   "outputs": [],
   "source": [
    "# 创建新线程\n",
    "thread1 = ra.cameraDetection(1, \"rsArucoDetection\")\n",
    "\n",
    "def showImg():\n",
    "    while True:\n",
    "#         display.clear_output(wait=True)\n",
    "        cv2.imwrite('./color.jpg', ra.color_image)\n",
    "#         img=Image.open(r'./color.jpg')\n",
    "#         plt.imshow(img)\n",
    "    \n",
    "thread2 = threading.Thread(target=showImg)"
   ]
  },
  {
   "cell_type": "code",
   "execution_count": 3,
   "metadata": {},
   "outputs": [
    {
     "name": "stdout",
     "output_type": "stream",
     "text": [
      "camera starts!\n",
      "Start streaming\n",
      "showImg starts!\n"
     ]
    }
   ],
   "source": [
    "# start to find aruco code\n",
    "if thread1.isAlive()==False:\n",
    "    print(\"camera starts!\")\n",
    "    thread1.start()\n",
    "    \n",
    "time.sleep(2)\n",
    "if thread2.isAlive()==False:\n",
    "    print(\"showImg starts!\")\n",
    "    thread2.start()"
   ]
  },
  {
   "cell_type": "code",
   "execution_count": 4,
   "metadata": {},
   "outputs": [
    {
     "name": "stdout",
     "output_type": "stream",
     "text": [
      "Connect status: DobotConnect_NoError\n"
     ]
    }
   ],
   "source": [
    "#dobot init\n",
    "CON_STR = {\n",
    "    dType.DobotConnect.DobotConnect_NoError:  \"DobotConnect_NoError\",\n",
    "    dType.DobotConnect.DobotConnect_NotFound: \"DobotConnect_NotFound\",\n",
    "    dType.DobotConnect.DobotConnect_Occupied: \"DobotConnect_Occupied\"}\n",
    "\n",
    "#Load Dll\n",
    "api = dType.load()\n",
    "\n",
    "\n",
    "# Search \n",
    "# print(dType.SearchDobot(api))\n",
    "#Connect Dobot\n",
    "state = dType.ConnectDobot(api, \"\", 115200)[0]\n",
    "\n",
    "print(\"Connect status:\",CON_STR[state])\n",
    "\n",
    "#set home postion\n",
    "dType.SetHOMEParams(api,217,0,154,0)\n",
    "\n",
    "# reset to home position\n",
    "# dType.SetHOMECmd(api, temp = 0, isQueued = 1)\n",
    "\n",
    "# Calibration points\n",
    "default_cali_points = [[180,-120,135,0],[270,-120,135,0],\n",
    "                       [180,120,135,0],[270,120,135,0],\n",
    "                       [270,120,-5,0],[180,120,-5,0],\n",
    "                       [180,-120,-5,0],[270,-120,-5,0]]\n",
    "np_cali_points = np.array(default_cali_points)\n",
    "arm_cord = np.column_stack((np_cali_points[:,0:3], np.ones(np_cali_points.shape[0]).T)).T"
   ]
  },
  {
   "cell_type": "code",
   "execution_count": 6,
   "metadata": {
    "scrolled": true
   },
   "outputs": [
    {
     "name": "stdout",
     "output_type": "stream",
     "text": [
      "Current points: [180, -120, 135, 1]\n",
      "[-0.08698806166648865, -0.05967811867594719, 0.46800002455711365]\n",
      "Current points: [270, -120, 135, 1]\n",
      "[-0.0894770622253418, -0.012111172080039978, 0.39100003242492676]\n",
      "Current points: [180, 120, 135, 1]\n",
      "[0.13517193496227264, -0.059674132615327835, 0.4740000367164612]\n",
      "Current points: [270, 120, 135, 1]\n",
      "[0.13890340924263, -0.011433931067585945, 0.39500001072883606]\n",
      "Current points: [270, 120, -5, 1]\n",
      "[0.13773860037326813, 0.10304449498653412, 0.4690000116825104]\n",
      "Current points: [180, 120, -5, 1]\n",
      "[0.1345045119524002, 0.05438121408224106, 0.5480000376701355]\n",
      "Current points: [180, -120, -5, 1]\n",
      "[-0.08915271610021591, 0.05390601232647896, 0.5410000085830688]\n",
      "Current points: [270, -120, -5, 1]\n",
      "[-0.09075091034173965, 0.10191404074430466, 0.46300002932548523]\n",
      "Finished\n",
      "Image to arm transform:\n",
      " [[ 1.96126108e+01  5.29627209e+02 -8.24129260e+02  5.99464274e+02]\n",
      " [ 1.06299327e+03  4.15882530e+00  1.26712658e+01 -3.12660358e+01]\n",
      " [ 1.60079272e+01 -8.80002310e+02 -5.40945171e+02  3.36858730e+02]\n",
      " [-6.66133815e-16 -4.44089210e-15  0.00000000e+00  1.00000000e+00]]\n",
      "Arm to Image transform:\n",
      " [[ 8.27385307e-06  9.40445152e-04  9.42407162e-06  2.12695317e-02]\n",
      " [ 5.34691970e-04  2.40123054e-06 -8.14546269e-04 -4.60666348e-02]\n",
      " [-8.69584842e-04  2.39238463e-05 -5.23244420e-04  6.98292501e-01]\n",
      " [ 1.47234655e-16 -6.81014490e-19 -1.00288701e-16  1.00000000e+00]]\n",
      "Sanity Test:\n",
      "-------------------\n",
      "Image_to_Arm\n",
      "-------------------\n",
      "Expected: [180, -120, 135]\n",
      "Result: [ 180.45854171 -118.05179826  134.8207605 ]\n",
      "Expected: [270, -120, 135]\n",
      "Result: [ 269.0604216  -121.47545384  134.57466783]\n",
      "Expected: [180, 120, 135]\n",
      "Result: [179.87300481 118.17882766 135.12789621]\n",
      "Expected: [270, 120, 135]\n",
      "Result: [270.60174502 121.34495196 135.4708232 ]\n",
      "Expected: [270, 120, -5]\n",
      "Result: [270.2242233  121.52053742  -5.31904548]\n",
      "Expected: [180, 120, -5]\n",
      "Result: [179.28116379 118.88137143  -5.28169954]\n",
      "Expected: [180, -120, -5]\n",
      "Result: [ 180.41191063 -118.9554326    -4.6571776 ]\n",
      "Expected: [270, -120, -5]\n",
      "Result: [ 270.08898915 -121.44300379   -4.73622512]\n",
      "-------------------\n",
      "Arm_to_Image\n",
      "-------------------\n",
      "Expected: [-0.08698806 -0.05967812  0.46800002]\n",
      "Result: [-0.08882234 -0.06007397  0.46825837]\n",
      "Expected: [-0.08947706 -0.01211117  0.39100003]\n",
      "Result: [-0.0880777  -0.0119517   0.38999574]\n",
      "Expected: [ 0.13517193 -0.05967413  0.47400004]\n",
      "Result: [ 0.13688449 -0.05949768  0.47400009]\n",
      "Expected: [ 0.13890341 -0.01143393  0.39500001]\n",
      "Result: [ 0.13762914 -0.0113754   0.39573746]\n",
      "Expected: [0.1377386  0.10304449 0.46900001]\n",
      "Result: [0.13630977 0.10266108 0.46899168]\n",
      "Expected: [0.13450451 0.05438121 0.54800004]\n",
      "Result: [0.13556512 0.0545388  0.54725431]\n",
      "Expected: [-0.08915272  0.05390601  0.54100001]\n",
      "Result: [-0.09014171  0.0539625   0.54151259]\n",
      "Expected: [-0.09075091  0.10191404  0.46300003]\n",
      "Result: [-0.08939707  0.10208478  0.46324995]\n"
     ]
    }
   ],
   "source": [
    "# 创建新线程\n",
    "# thread1 = ra.cameraDetection(1, \"rsArucoDetection\", 1)\n",
    "\n",
    "# start to find aruco code\n",
    "# thread1.start()\n",
    "#thread1.join() #阻塞\n",
    "\n",
    "# clear queue\n",
    "dType.SetQueuedCmdClear(api)\n",
    "dType.SetQueuedCmdStartExec(api)\n",
    "\n",
    "centers=np.ones(arm_cord.shape)\n",
    "\n",
    "for ind,pt in enumerate(default_cali_points):\n",
    "    print(\"Current points:\", pt)\n",
    "#     dType.SetQueuedCmdStopExec(api)\n",
    "#     dType.SetQueuedCmdClear(api)\n",
    "    queuedCmdIndex = dType.SetPTPCmd(api, 1, pt[0], pt[1], pt[2], pt[3], isQueued=0);\n",
    "    while dType.GetQueuedCmdCurrentIndex(api) != queuedCmdIndex:\n",
    "        time.sleep(1)\n",
    "    time.sleep(2)\n",
    "    centers[0:3,ind]=ra.center\n",
    "    print(ra.center)\n",
    "    \n",
    "\n",
    "image_to_arm = np.dot(arm_cord, np.linalg.pinv(centers))\n",
    "arm_to_image = np.linalg.pinv(image_to_arm)\n",
    "dType.SetPTPCmd(api, 1, 217,0,154,0, isQueued=0);\n",
    "dType.SetQueuedCmdStopExec(api);\n",
    "\n",
    "print(\"Finished\")\n",
    "print(\"Image to arm transform:\\n\", image_to_arm)\n",
    "print(\"Arm to Image transform:\\n\", arm_to_image)\n",
    "print(\"Sanity Test:\")\n",
    "\n",
    "print(\"-------------------\")\n",
    "print(\"Image_to_Arm\")\n",
    "print(\"-------------------\")\n",
    "for ind, pt in enumerate(centers.T):\n",
    "    print(\"Expected:\", default_cali_points[ind][0:3])\n",
    "    print(\"Result:\", np.dot(image_to_arm, np.array(pt))[0:3])\n",
    "    \n",
    "print(\"-------------------\")\n",
    "print(\"Arm_to_Image\")\n",
    "print(\"-------------------\")\n",
    "for ind, pt in enumerate(default_cali_points):\n",
    "    print(\"Expected:\", centers.T[ind][0:3])\n",
    "    pt[3]=1\n",
    "    print(\"Result:\", np.dot(arm_to_image, np.array(pt))[0:3])\n",
    "# while 1:\n",
    "#     time.sleep(1)\n",
    "#     print(\"center:%f %f, depth:%f m\" %(ra.center[0],ra.center[1],ra.center[2]))"
   ]
  },
  {
   "cell_type": "code",
   "execution_count": null,
   "metadata": {},
   "outputs": [],
   "source": [
    "# thread1.stop()\n",
    "# thread1.isAlive()"
   ]
  },
  {
   "cell_type": "code",
   "execution_count": null,
   "metadata": {},
   "outputs": [],
   "source": [
    "# threading.enumerate()"
   ]
  },
  {
   "cell_type": "code",
   "execution_count": null,
   "metadata": {},
   "outputs": [],
   "source": [
    "# %whos"
   ]
  }
 ],
 "metadata": {
  "kernelspec": {
   "display_name": "Python 3",
   "language": "python",
   "name": "python3"
  },
  "language_info": {
   "codemirror_mode": {
    "name": "ipython",
    "version": 3
   },
   "file_extension": ".py",
   "mimetype": "text/x-python",
   "name": "python",
   "nbconvert_exporter": "python",
   "pygments_lexer": "ipython3",
   "version": "3.6.5"
  }
 },
 "nbformat": 4,
 "nbformat_minor": 2
}
